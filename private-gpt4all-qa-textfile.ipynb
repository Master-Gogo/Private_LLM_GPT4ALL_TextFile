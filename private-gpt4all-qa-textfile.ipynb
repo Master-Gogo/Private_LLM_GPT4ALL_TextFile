{
  "nbformat": 4,
  "nbformat_minor": 0,
  "metadata": {
    "colab": {
      "provenance": [],
      "gpuType": "T4"
    },
    "kernelspec": {
      "name": "python3",
      "display_name": "Python 3"
    },
    "language_info": {
      "name": "python"
    },
    "accelerator": "GPU"
  },
  "cells": [
    {
      "cell_type": "code",
      "source": [],
      "metadata": {
        "id": "mCh7qjAVpaII"
      },
      "execution_count": null,
      "outputs": []
    },
    {
      "cell_type": "code",
      "source": [
        "\n",
        "!apt-get install poppler-utils"
      ],
      "metadata": {
        "id": "UKUb93CVIwgf"
      },
      "execution_count": null,
      "outputs": []
    },
    {
      "cell_type": "code",
      "source": [
        "\n",
        "!pip install -Uqqq pip --progress-bar off\n",
        "!pip install -qqq langchain==0.0.173 --progress-bar off\n",
        "!pip install -qqq chromadb==0.3.23 --progress-bar off\n",
        "!pip install -qqq pypdf==3.8.1 --progress-bar off\n",
        "!pip install -qqq pygpt4all==1.1.0 --progress-bar off\n",
        "!pip install -qqq pdf2image==1.16.3 --progress-bar off"
      ],
      "metadata": {
        "id": "2s-QCuxoI-nM"
      },
      "execution_count": null,
      "outputs": []
    },
    {
      "cell_type": "code",
      "source": [
        "!gdown 1DpFisoGXsQbpQJvijuvxkLW_pg-FUUMF"
      ],
      "metadata": {
        "id": "S3HK4pYNJGes",
        "outputId": "a60f0296-776d-42c3-fa6d-892ae4470b64",
        "colab": {
          "base_uri": "https://localhost:8080/"
        }
      },
      "execution_count": 3,
      "outputs": [
        {
          "output_type": "stream",
          "name": "stdout",
          "text": [
            "Downloading...\n",
            "From: https://drive.google.com/uc?id=1DpFisoGXsQbpQJvijuvxkLW_pg-FUUMF\n",
            "To: /content/ms-financial-statement.pdf\n",
            "\r  0% 0.00/29.1k [00:00<?, ?B/s]\r100% 29.1k/29.1k [00:00<00:00, 74.8MB/s]\n"
          ]
        }
      ]
    },
    {
      "cell_type": "code",
      "source": [],
      "metadata": {
        "id": "Pm3pSywgJmU7"
      },
      "execution_count": null,
      "outputs": []
    },
    {
      "cell_type": "code",
      "source": [
        "!wget https://gpt4all.io/models/ggml-gpt4all-j-v1.3-groovy.bin"
      ],
      "metadata": {
        "id": "96vm9CRaJPms",
        "outputId": "feebfd32-b1bd-4426-8961-37e9a0cc168f",
        "colab": {
          "base_uri": "https://localhost:8080/"
        }
      },
      "execution_count": 4,
      "outputs": [
        {
          "output_type": "stream",
          "name": "stdout",
          "text": [
            "--2023-09-21 05:11:25--  https://gpt4all.io/models/ggml-gpt4all-j-v1.3-groovy.bin\n",
            "Resolving gpt4all.io (gpt4all.io)... 104.26.1.159, 172.67.71.169, 104.26.0.159, ...\n",
            "Connecting to gpt4all.io (gpt4all.io)|104.26.1.159|:443... connected.\n",
            "HTTP request sent, awaiting response... 200 OK\n",
            "Length: 3785248281 (3.5G)\n",
            "Saving to: ‘ggml-gpt4all-j-v1.3-groovy.bin’\n",
            "\n",
            "ggml-gpt4all-j-v1.3 100%[===================>]   3.52G  23.1MB/s    in 97s     \n",
            "\n",
            "2023-09-21 05:13:03 (37.1 MB/s) - ‘ggml-gpt4all-j-v1.3-groovy.bin’ saved [3785248281/3785248281]\n",
            "\n"
          ]
        }
      ]
    },
    {
      "cell_type": "code",
      "source": [
        "from langchain.chains import RetrievalQA\n",
        "from langchain.document_loaders import PyPDFLoader\n",
        "from langchain.embeddings import HuggingFaceEmbeddings\n",
        "from langchain.llms import GPT4All\n",
        "from langchain.text_splitter import RecursiveCharacterTextSplitter\n",
        "from langchain.vectorstores import Chroma\n",
        "from pdf2image import convert_from_path"
      ],
      "metadata": {
        "id": "0rB727uiJoxO"
      },
      "execution_count": 5,
      "outputs": []
    },
    {
      "cell_type": "code",
      "source": [
        "from langchain.document_loaders import TextLoader"
      ],
      "metadata": {
        "id": "q9w-ODPtKtbm"
      },
      "execution_count": 6,
      "outputs": []
    },
    {
      "cell_type": "code",
      "source": [
        "from google.colab import drive\n",
        "drive.mount('/content/drive')"
      ],
      "metadata": {
        "id": "x00dVkjnJ4Aj",
        "outputId": "ea315f90-94cf-45ae-a700-6c796b96ac2f",
        "colab": {
          "base_uri": "https://localhost:8080/"
        }
      },
      "execution_count": 7,
      "outputs": [
        {
          "output_type": "stream",
          "name": "stdout",
          "text": [
            "Drive already mounted at /content/drive; to attempt to forcibly remount, call drive.mount(\"/content/drive\", force_remount=True).\n"
          ]
        }
      ]
    },
    {
      "cell_type": "code",
      "source": [
        "loader = TextLoader(\"/content/drive/MyDrive/limited_liability-drive/matched_txt_20210908/01-27-15 MSA.txt\")"
      ],
      "metadata": {
        "id": "INbZf0mKL7CA"
      },
      "execution_count": 8,
      "outputs": []
    },
    {
      "cell_type": "code",
      "source": [
        "documents = loader.load_and_split()"
      ],
      "metadata": {
        "id": "o-PaV2zBMPUy"
      },
      "execution_count": 9,
      "outputs": []
    },
    {
      "cell_type": "code",
      "source": [
        "len(documents)"
      ],
      "metadata": {
        "id": "iyV1MdE6MRiA",
        "outputId": "8b43c9be-1d7a-4ff5-d9be-a0f84ebc1f28",
        "colab": {
          "base_uri": "https://localhost:8080/"
        }
      },
      "execution_count": 10,
      "outputs": [
        {
          "output_type": "execute_result",
          "data": {
            "text/plain": [
              "8"
            ]
          },
          "metadata": {},
          "execution_count": 10
        }
      ]
    },
    {
      "cell_type": "code",
      "source": [
        "\n",
        "print(documents[0].page_content)"
      ],
      "metadata": {
        "id": "O3GrhpSGM-V6",
        "outputId": "fed27f38-c229-4b1e-d140-c1f0a22146bb",
        "colab": {
          "base_uri": "https://localhost:8080/"
        }
      },
      "execution_count": 11,
      "outputs": [
        {
          "output_type": "stream",
          "name": "stdout",
          "text": [
            "yy\n",
            "ay?\n",
            "\n",
            "MASTER SERVICES AGREEMENT\n",
            "\n",
            "This Master Services Agreement (this “Agreement”), is made as of January 1, 2015 (the “Effective Date”), by and\n",
            "between Novitex Enterprise Solutions, Inc., a Delaware corporation, with a principal place of business at 300 First Stamford\n",
            "\n",
            "Place, Second Floor West, Stamford, Connecticut 06902 (‘“Novitex’’), and Blackhawk Network, Inc., an Arizona corporation\n",
            "with a place of business at 6220 Stoneridge Mall Road, Pleasanton, CA 94588 (“Customer”).\n",
            "\n",
            "SECTION 1. Scope. During the Term (defined below), the parties may enter into one or more statements(s) of work, each\n",
            "of which will become effective when signed by both parties (each, a “SOM”)., Each SOW will set forth the services to be\n",
            "provided (the “Services”), the fees for the Services and any other applicable terms. Each SOW will be governed by this\n",
            "\n",
            "Agreement; if there is a conflict between a SOW and this Agreement, the SOW will control.\n",
            "\n",
            "SECTION 2. Standards of Performance; Warranty. The Services will be performed in a skillful and workmanlike manner\n",
            "consistent with the standards of performance set forth in the applicable SOW (the “Performance Standards”). If Novitex fails\n",
            "to meet the Performance Standards, upon written notice, Novitex will promptly correct or redo the applicable component of\n",
            "the Service at no additional cost. If Novitex is not able to correct or redo the applicable component of Service within thirty (30)\n",
            "days of receiving notice, Customer shall have the right to terminate the applicable SOW pursuant to the terms of Section 9(d).\n",
            "THE EXPRESS REPRESENTATIONS AND WARRANTIES CONTAINED IN THIS AGREEMENT ARE NOVITEX’S\n",
            "ONLY REPRESENTATIONS AND WARRANTIES. NOVITEX EXPRESSLY DISCLAIMS ANY AND ALL OTHER\n",
            "REPRESENTATIONS OR WARRANTIES OF ANY KIND OR NATURE, EXPRESS OR IMPLIED.\n",
            "\n",
            "SECTION 3. Personnel.\n",
            "\n",
            "(a) Novitex will be solely responsible for the supervision, daily direction, control, and payment (including paying all\n",
            "benefits (i.e., workers’ compensation and disability) and employer taxes). No Novitex employee will be eligible for\n",
            "Customer’s employee benefits.\n",
            "\n",
            "(b) During the term of this Agreement and for one (1) year thereafter, Customer agrees it will not (i) hire any employee\n",
            "of Novitex (an “Employee”) who is providing or has provided Services at any time during the term of this\n",
            "Agreement or has provided administrative or management services in connection with this Agreement or an SOW;\n",
            "(ii) solicit, entice, induce or encourage any Employee who is providing or has provided Services at any time during\n",
            "the term of this Agreement or an SOW or has provided administrative or management services in connection with\n",
            "this Agreement or an SOW to become employed or retained by Customer or any other entity for the purpose of\n",
            "providing services similar to the Services; or (iii) approach any such Employee for such purpose or authorize,\n",
            "facilitate or knowingly approve the taking of such actions by any other entity, in each case without the written\n",
            "consent of Novitex. This provision will survive the termination of this Agreement. If Customer violates this Section,\n",
            "Customer agrees to pay Novitex an amount equal to the greater of: (i) $15,000 or (ii) (y) the annual salary of each\n",
            "such employee involved, calculated at the last applicable rate of pay of each such former employee.\n",
            "\n",
            "SECTION 4. Prices and Payment Terms,\n",
            "\n",
            "(a) The fees for the Services are set forth in the applicable SOW. All fees are exclusive of all taxes and similar charges\n",
            "that are based on or measured by the fees (plus an amount equal to any associated penalties and interest) which will\n",
            "be billed to Customer, if required or permitted by a tax authority to be collected and paid by Novitex.\n",
            "\n",
            "(b) Fees will be invoiced at the end of each month for services provided in that month.\n",
            "\n",
            "Vealis\n"
          ]
        }
      ]
    },
    {
      "cell_type": "code",
      "source": [
        "text_splitter = RecursiveCharacterTextSplitter(chunk_size=1024, chunk_overlap=64)\n",
        "texts = text_splitter.split_documents(documents)"
      ],
      "metadata": {
        "id": "R50xeer3NQXY"
      },
      "execution_count": 12,
      "outputs": []
    },
    {
      "cell_type": "code",
      "source": [
        "texts[0:2]"
      ],
      "metadata": {
        "id": "g0Gc2COMOILD",
        "outputId": "af6674f6-8b09-4209-caa7-e5ddb9b8e186",
        "colab": {
          "base_uri": "https://localhost:8080/"
        }
      },
      "execution_count": 13,
      "outputs": [
        {
          "output_type": "execute_result",
          "data": {
            "text/plain": [
              "[Document(page_content='yy\\nay?\\n\\nMASTER SERVICES AGREEMENT\\n\\nThis Master Services Agreement (this “Agreement”), is made as of January 1, 2015 (the “Effective Date”), by and\\nbetween Novitex Enterprise Solutions, Inc., a Delaware corporation, with a principal place of business at 300 First Stamford\\n\\nPlace, Second Floor West, Stamford, Connecticut 06902 (‘“Novitex’’), and Blackhawk Network, Inc., an Arizona corporation\\nwith a place of business at 6220 Stoneridge Mall Road, Pleasanton, CA 94588 (“Customer”).\\n\\nSECTION 1. Scope. During the Term (defined below), the parties may enter into one or more statements(s) of work, each\\nof which will become effective when signed by both parties (each, a “SOM”)., Each SOW will set forth the services to be\\nprovided (the “Services”), the fees for the Services and any other applicable terms. Each SOW will be governed by this\\n\\nAgreement; if there is a conflict between a SOW and this Agreement, the SOW will control.', metadata={'source': '/content/drive/MyDrive/limited_liability-drive/matched_txt_20210908/01-27-15 MSA.txt'}),\n",
              " Document(page_content='SECTION 2. Standards of Performance; Warranty. The Services will be performed in a skillful and workmanlike manner\\nconsistent with the standards of performance set forth in the applicable SOW (the “Performance Standards”). If Novitex fails\\nto meet the Performance Standards, upon written notice, Novitex will promptly correct or redo the applicable component of\\nthe Service at no additional cost. If Novitex is not able to correct or redo the applicable component of Service within thirty (30)\\ndays of receiving notice, Customer shall have the right to terminate the applicable SOW pursuant to the terms of Section 9(d).\\nTHE EXPRESS REPRESENTATIONS AND WARRANTIES CONTAINED IN THIS AGREEMENT ARE NOVITEX’S\\nONLY REPRESENTATIONS AND WARRANTIES. NOVITEX EXPRESSLY DISCLAIMS ANY AND ALL OTHER\\nREPRESENTATIONS OR WARRANTIES OF ANY KIND OR NATURE, EXPRESS OR IMPLIED.\\n\\nSECTION 3. Personnel.', metadata={'source': '/content/drive/MyDrive/limited_liability-drive/matched_txt_20210908/01-27-15 MSA.txt'})]"
            ]
          },
          "metadata": {},
          "execution_count": 13
        }
      ]
    },
    {
      "cell_type": "code",
      "source": [
        "\n",
        "len(texts)"
      ],
      "metadata": {
        "id": "t_YPJq1zOgs2",
        "outputId": "a3223042-9d02-4bcb-945d-c1535443796b",
        "colab": {
          "base_uri": "https://localhost:8080/"
        }
      },
      "execution_count": 14,
      "outputs": [
        {
          "output_type": "execute_result",
          "data": {
            "text/plain": [
              "40"
            ]
          },
          "metadata": {},
          "execution_count": 14
        }
      ]
    },
    {
      "cell_type": "code",
      "source": [
        "print(texts[0].page_content)"
      ],
      "metadata": {
        "id": "UI6CMMZgOlpq",
        "outputId": "bc18a481-fbbb-481f-c392-207773c15405",
        "colab": {
          "base_uri": "https://localhost:8080/"
        }
      },
      "execution_count": 15,
      "outputs": [
        {
          "output_type": "stream",
          "name": "stdout",
          "text": [
            "yy\n",
            "ay?\n",
            "\n",
            "MASTER SERVICES AGREEMENT\n",
            "\n",
            "This Master Services Agreement (this “Agreement”), is made as of January 1, 2015 (the “Effective Date”), by and\n",
            "between Novitex Enterprise Solutions, Inc., a Delaware corporation, with a principal place of business at 300 First Stamford\n",
            "\n",
            "Place, Second Floor West, Stamford, Connecticut 06902 (‘“Novitex’’), and Blackhawk Network, Inc., an Arizona corporation\n",
            "with a place of business at 6220 Stoneridge Mall Road, Pleasanton, CA 94588 (“Customer”).\n",
            "\n",
            "SECTION 1. Scope. During the Term (defined below), the parties may enter into one or more statements(s) of work, each\n",
            "of which will become effective when signed by both parties (each, a “SOM”)., Each SOW will set forth the services to be\n",
            "provided (the “Services”), the fees for the Services and any other applicable terms. Each SOW will be governed by this\n",
            "\n",
            "Agreement; if there is a conflict between a SOW and this Agreement, the SOW will control.\n"
          ]
        }
      ]
    },
    {
      "cell_type": "code",
      "source": [
        "# creating embedding"
      ],
      "metadata": {
        "id": "Yp44ENq8Otd7"
      },
      "execution_count": 16,
      "outputs": []
    },
    {
      "cell_type": "code",
      "source": [
        "embeddings = HuggingFaceEmbeddings(model_name=\"sentence-transformers/all-MiniLM-L6-v2\")"
      ],
      "metadata": {
        "id": "vAHjcqJBOvnz"
      },
      "execution_count": 17,
      "outputs": []
    },
    {
      "cell_type": "code",
      "source": [
        "\n",
        "db = Chroma.from_documents(texts, embeddings, persist_directory=\"db\")"
      ],
      "metadata": {
        "id": "MmMduBXpO8Oc",
        "outputId": "14057b2c-de01-4b98-ddb1-0a158042acb1",
        "colab": {
          "base_uri": "https://localhost:8080/"
        }
      },
      "execution_count": 18,
      "outputs": [
        {
          "output_type": "stream",
          "name": "stderr",
          "text": [
            "WARNING:chromadb:Using embedded DuckDB with persistence: data will be stored in: db\n"
          ]
        }
      ]
    },
    {
      "cell_type": "code",
      "source": [
        "#Create Chain\n",
        "model_n_ctx = 1000\n",
        "model_path = \"./ggml-gpt4all-j-v1.3-groovy.bin\"\n",
        "llm = GPT4All(model=model_path, n_ctx=1000, backend=\"gptj\", verbose=False)"
      ],
      "metadata": {
        "id": "vqLTpQO0PCMY"
      },
      "execution_count": 19,
      "outputs": []
    },
    {
      "cell_type": "code",
      "source": [
        "qa = RetrievalQA.from_chain_type(\n",
        "    llm=llm,\n",
        "    chain_type=\"stuff\",\n",
        "    retriever=db.as_retriever(search_kwargs={\"k\": 2}),\n",
        "    return_source_documents=True,\n",
        "    verbose=False,\n",
        ")\n",
        ""
      ],
      "metadata": {
        "id": "TqkvY7HjPYox"
      },
      "execution_count": 20,
      "outputs": []
    },
    {
      "cell_type": "code",
      "source": [
        "#Ask Questions\n",
        "%%time\n",
        "res = qa(\n",
        "    \"what is standards of Performance; Warranty.? Extract as it is from the text.\"\n",
        ")"
      ],
      "metadata": {
        "id": "30R_DqN_PnnW"
      },
      "execution_count": null,
      "outputs": []
    }
  ]
}